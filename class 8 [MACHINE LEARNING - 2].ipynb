{
 "cells": [
  {
   "cell_type": "code",
   "execution_count": 3,
   "metadata": {},
   "outputs": [],
   "source": [
    "import numpy as np\n",
    "import matplotlib.pyplot as plt\n",
    "%matplotlib inline\n",
    "from sklearn.datasets import make_regression"
   ]
  },
  {
   "cell_type": "code",
   "execution_count": 4,
   "metadata": {},
   "outputs": [],
   "source": [
    "X,Y = make_regression(n_samples = 500, n_features = 1, noise = 10 , bias = 10)\n"
   ]
  },
  {
   "cell_type": "code",
   "execution_count": 5,
   "metadata": {},
   "outputs": [
    {
     "data": {
      "text/plain": [
       "500"
      ]
     },
     "execution_count": 5,
     "metadata": {},
     "output_type": "execute_result"
    },
    {
     "data": {
      "image/png": "[encoded data removed]",
      "text/plain": [
       "<Figure size 432x288 with 1 Axes>"
      ]
     },
     "metadata": {
      "needs_background": "light"
     },
     "output_type": "display_data"
    }
   ],
   "source": [
    "plt.scatter(X,Y)\n",
    "Y.shape[0]"
   ]
  },
  {
   "cell_type": "markdown",
   "metadata": {},
   "source": [
    " "
   ]
  },
  {
   "cell_type": "code",
   "execution_count": 4,
   "metadata": {},
   "outputs": [],
   "source": [
    "split = int( X.shape[0]*0.8)\n"
   ]
  },
  {
   "cell_type": "code",
   "execution_count": 5,
   "metadata": {},
   "outputs": [
    {
     "data": {
      "text/plain": [
       "400"
      ]
     },
     "execution_count": 5,
     "metadata": {},
     "output_type": "execute_result"
    }
   ],
   "source": [
    "split"
   ]
  },
  {
   "cell_type": "code",
   "execution_count": 6,
   "metadata": {},
   "outputs": [],
   "source": [
    "X_train = X[:split]\n",
    "X_test = X[split:]\n"
   ]
  },
  {
   "cell_type": "code",
   "execution_count": 7,
   "metadata": {},
   "outputs": [],
   "source": [
    "Y_train = Y[:split]\n",
    "Y_test = Y[split:]\n",
    "\n"
   ]
  },
  {
   "cell_type": "code",
   "execution_count": 8,
   "metadata": {},
   "outputs": [
    {
     "name": "stdout",
     "output_type": "stream",
     "text": [
      "(400, 1) (100, 1)\n",
      "(400,) (100,)\n"
     ]
    }
   ],
   "source": [
    "print(X_train.shape , X_test.shape)\n",
    "print(Y_train.shape, Y_test.shape)"
   ]
  },
  {
   "cell_type": "code",
   "execution_count": null,
   "metadata": {},
   "outputs": [],
   "source": []
  },
  {
   "cell_type": "code",
   "execution_count": 9,
   "metadata": {},
   "outputs": [],
   "source": [
    "## Methods we need to write\n",
    "def hypothesis(X,theta):\n",
    "    return theta[0] + X*theta[1]\n",
    "\n"
   ]
  },
  {
   "cell_type": "code",
   "execution_count": 10,
   "metadata": {},
   "outputs": [],
   "source": [
    "def get_error(X,Y, theta):\n",
    "    error = 0.0\n",
    "    m = X.shape[0]\n",
    "    \n",
    "    for i in range(m):\n",
    "        h = hypothesis(X[i],theta)\n",
    "        error += (h - Y[i])**2\n",
    "        \n",
    "    error = error/2*m\n",
    "    \n",
    "    return error"
   ]
  },
  {
   "cell_type": "code",
   "execution_count": 11,
   "metadata": {},
   "outputs": [],
   "source": [
    "def get_grad(X,Y,theta):\n",
    "    grad = np.zeros((2,))\n",
    "    \n",
    "    m = X.shape[0]\n",
    "    for i in range(m):\n",
    "        h = hypothesis(X[i],theta)\n",
    "        grad[0] += (h - Y[i])\n",
    "        grad[1] += (h - Y[i])*(X[i])\n",
    "        \n",
    "    grad[0] = grad[0]/m\n",
    "    grad[1] = grad[1]/m\n",
    "    \n",
    "    return grad\n",
    "        \n",
    "      "
   ]
  },
  {
   "cell_type": "code",
   "execution_count": 12,
   "metadata": {},
   "outputs": [],
   "source": [
    "def gradient_descent(X,Y,learning_rate = 0.01):\n",
    "    error_list = []\n",
    "    theta = np.zeros((2,))\n",
    "    max_iter = 500\n",
    "    \n",
    "    for i in range(500):\n",
    "        g = get_grad(X,Y,theta)\n",
    "        e = get_error(X,Y,theta)\n",
    "        error_list.append(e)\n",
    "        \n",
    "        theta[0] -= learning_rate*g[0]\n",
    "        theta[1] -= learning_rate*g[1]\n",
    "\n",
    "    return theta , error_list\n",
    "        \n"
   ]
  },
  {
   "cell_type": "code",
   "execution_count": 13,
   "metadata": {},
   "outputs": [],
   "source": [
    "theta_final, errors = gradient_descent(X_train,Y_train)"
   ]
  },
  {
   "cell_type": "code",
   "execution_count": 14,
   "metadata": {},
   "outputs": [
    {
     "data": {
      "text/plain": [
       "[array([15810784.09551242]),\n",
       " array([15664363.86920161]),\n",
       " array([15520822.83056765]),\n",
       " array([15380104.20114815]),\n",
       " array([15242152.32534258]),\n",
       " array([15106912.64814472]),\n",
       " array([14974331.69331743]),\n",
       " array([14844357.04200199]),\n",
       " array([14716937.31175229]),\n",
       " array([14592022.13598601]),\n",
       " array([14469562.14384443]),\n",
       " array([14349508.94045253]),\n",
       " array([14231815.08757143]),\n",
       " array([14116434.08463547]),\n",
       " array([14003320.35016638]),\n",
       " array([13892429.20355646]),\n",
       " array([13783716.84721421]),\n",
       " array([13677140.34906458]),\n",
       " array([13572657.62539697]),\n",
       " array([13470227.42405418]),\n",
       " array([13369809.30795522]),\n",
       " array([13271363.63894574]),\n",
       " array([13174851.56196913]),\n",
       " array([13080234.98955212]),\n",
       " array([12987476.58659865]),\n",
       " array([12896539.75548585]),\n",
       " array([12807388.62145587]),\n",
       " array([12719988.01829809]),\n",
       " array([12634303.47431555]),\n",
       " array([12550301.19857017]),\n",
       " array([12467948.06740112]),\n",
       " array([12387211.61121088]),\n",
       " array([12308060.00151375]),\n",
       " array([12230462.03824152]),\n",
       " array([12154387.13730101]),\n",
       " array([12079805.31837901]),\n",
       " array([12006687.19298891]),\n",
       " array([11935003.95275501]),\n",
       " array([11864727.35792905]),\n",
       " array([11795829.72613496]),\n",
       " array([11728283.92133684]),\n",
       " array([11662063.34302599]),\n",
       " array([11597141.91562246]),\n",
       " array([11533494.07808702]),\n",
       " array([11471094.77373922]),\n",
       " array([11409919.44027745]),\n",
       " array([11349943.99999716]),\n",
       " array([11291144.85020297]),\n",
       " array([11233498.85381121]),\n",
       " array([11176983.33013871]),\n",
       " array([11121576.04587447]),\n",
       " array([11067255.20623026]),\n",
       " array([11013999.44626694]),\n",
       " array([10961787.82239265]),\n",
       " array([10910599.80402981]),\n",
       " array([10860415.26544709]),\n",
       " array([10811214.47775366]),\n",
       " array([10762978.10105205]),\n",
       " array([10715687.17674669]),\n",
       " array([10669323.12000474]),\n",
       " array([10623867.71236673]),\n",
       " array([10579303.09450345]),\n",
       " array([10535611.75911646]),\n",
       " array([10492776.54397957]),\n",
       " array([10450780.62511783]),\n",
       " array([10409607.51012219]),\n",
       " array([10369241.03159625]),\n",
       " array([10329665.34073323]),\n",
       " array([10290864.90102001]),\n",
       " array([10252824.48206601]),\n",
       " array([10215529.1535544]),\n",
       " array([10178964.27931305]),\n",
       " array([10143115.51150317]),\n",
       " array([10107968.78492273]),\n",
       " array([10073510.31142319]),\n",
       " array([10039726.57443641]),\n",
       " array([10006604.3236103]),\n",
       " array([9974130.56955055]),\n",
       " array([9942292.57866656]),\n",
       " array([9911077.86811944]),\n",
       " array([9880474.20087015]),\n",
       " array([9850469.58082552]),\n",
       " array([9821052.24808059]),\n",
       " array([9792210.67425506]),\n",
       " array([9763933.55792207]),\n",
       " array([9736209.82012752]),\n",
       " array([9709028.59999815]),\n",
       " array([9682379.2504364]),\n",
       " array([9656251.3339007]),\n",
       " array([9630634.6182692]),\n",
       " array([9605519.07278527]),\n",
       " array([9580894.86408343]),\n",
       " array([9556752.3522939]),\n",
       " array([9533082.08722403]),\n",
       " array([9509874.80461564]),\n",
       " array([9487121.42247612]),\n",
       " array([9464813.03748235]),\n",
       " array([9442940.92145558]),\n",
       " array([9421496.51790621]),\n",
       " array([9400471.43864686]),\n",
       " array([9379857.46047243]),\n",
       " array([9359646.52190589]),\n",
       " array([9339830.72000836]),\n",
       " array([9320402.30725237]),\n",
       " array([9301353.68845688]),\n",
       " array([9282677.417783]),\n",
       " array([9264366.1957891]),\n",
       " array([9246412.86654406]),\n",
       " array([9228810.41479776]),\n",
       " array([9211551.96320736]),\n",
       " array([9194630.7696186]),\n",
       " array([9178040.22440068]),\n",
       " array([9161773.84783388]),\n",
       " array([9145825.28754892]),\n",
       " array([9130188.31601678]),\n",
       " array([9114856.82808826]),\n",
       " array([9099824.83858215]),\n",
       " array([9085086.47992094]),\n",
       " array([9070635.99981345]),\n",
       " array([9056467.75898317]),\n",
       " array([9042576.22894143]),\n",
       " array([9028955.9898046]),\n",
       " array([9015601.72815455]),\n",
       " array([9002508.23494121]),\n",
       " array([8989670.40342657]),\n",
       " array([8977083.22716949]),\n",
       " array([8964741.79805008]),\n",
       " array([8952641.30433327]),\n",
       " array([8940777.0287705]),\n",
       " array([8929144.34673906]),\n",
       " array([8917738.72441803]),\n",
       " array([8906555.7170003]),\n",
       " array([8895590.96693992]),\n",
       " array([8884840.20223401]),\n",
       " array([8874299.23473867]),\n",
       " array([8863963.95851802]),\n",
       " array([8853830.34822594]),\n",
       " array([8843894.45751973]),\n",
       " array([8834152.41750506]),\n",
       " array([8824600.43521164]),\n",
       " array([8815234.79209895]),\n",
       " array([8806051.84259151]),\n",
       " array([8797048.01264306]),\n",
       " array([8788219.79832894]),\n",
       " array([8779563.76446646]),\n",
       " array([8771076.54326235]),\n",
       " array([8762754.83298691]),\n",
       " array([8754595.39667435]),\n",
       " array([8746595.06084887]),\n",
       " array([8738750.71427561]),\n",
       " array([8731059.30673648]),\n",
       " array([8723517.84783007]),\n",
       " array([8716123.4057952]),\n",
       " array([8708873.1063577]),\n",
       " array([8701764.13159985]),\n",
       " array([8694793.71885236]),\n",
       " array([8687959.15960786]),\n",
       " array([8681257.7984561]),\n",
       " array([8674687.03203998]),\n",
       " array([8668244.30803224]),\n",
       " array([8661927.1241323]),\n",
       " array([8655733.02708288]),\n",
       " array([8649659.61170601]),\n",
       " array([8643704.51995805]),\n",
       " array([8637865.44000328]),\n",
       " array([8632140.10530585]),\n",
       " array([8626526.29373956]),\n",
       " array([8621021.82671516]),\n",
       " array([8615624.56832493]),\n",
       " array([8610332.42450407]),\n",
       " array([8605143.34220859]),\n",
       " array([8600055.30860942]),\n",
       " array([8595066.35030245]),\n",
       " array([8590174.53253405]),\n",
       " array([8585377.95844183]),\n",
       " array([8580674.7683106]),\n",
       " array([8576063.13884251]),\n",
       " array([8571541.28244211]),\n",
       " array([8567107.44651509]),\n",
       " array([8562759.91278102]),\n",
       " array([8558496.99659953]),\n",
       " array([8554317.04630991]),\n",
       " array([8550218.44258349]),\n",
       " array([8546199.59778898]),\n",
       " array([8542258.95537015]),\n",
       " array([8538394.9892359]),\n",
       " array([8534606.20316222]),\n",
       " array([8530891.13020598]),\n",
       " array([8527248.33213023]),\n",
       " array([8523676.39884089]),\n",
       " array([8520173.94783439]),\n",
       " array([8516739.62365632]),\n",
       " array([8513372.09737066]),\n",
       " array([8510070.06603944]),\n",
       " array([8506832.25221266]),\n",
       " array([8503657.40342834]),\n",
       " array([8500544.29172219]),\n",
       " array([8497491.71314718]),\n",
       " array([8494498.48730234]),\n",
       " array([8491563.45687097]),\n",
       " array([8488685.48716788]),\n",
       " array([8485863.4656956]),\n",
       " array([8483096.30170916]),\n",
       " array([8480382.92578965]),\n",
       " array([8477722.28942593]),\n",
       " array([8475113.3646048]),\n",
       " array([8472555.14340905]),\n",
       " array([8470046.6376235]),\n",
       " array([8467586.87834874]),\n",
       " array([8465174.91562254]),\n",
       " array([8462809.81804859]),\n",
       " array([8460490.67243265]),\n",
       " array([8458216.58342578]),\n",
       " array([8455986.6731746]),\n",
       " array([8453800.08097847]),\n",
       " array([8451655.96295327]),\n",
       " array([8449553.49170201]),\n",
       " array([8447491.85599169]),\n",
       " array([8445470.26043667]),\n",
       " array([8443487.92518812]),\n",
       " array([8441544.08562978]),\n",
       " array([8439637.99207941]),\n",
       " array([8437768.90949639]),\n",
       " array([8435936.11719488]),\n",
       " array([8434138.90856268]),\n",
       " array([8432376.5907856]),\n",
       " array([8430648.48457724]),\n",
       " array([8428953.92391414]),\n",
       " array([8427292.25577599]),\n",
       " array([8425662.83989106]),\n",
       " array([8424065.0484867]),\n",
       " array([8422498.2660444]),\n",
       " array([8420961.88906018]),\n",
       " array([8419455.32580915]),\n",
       " array([8417977.99611511]),\n",
       " array([8416529.33112441]),\n",
       " array([8415108.77308443]),\n",
       " array([8413715.77512621]),\n",
       " array([8412349.80105152]),\n",
       " array([8411010.32512411]),\n",
       " array([8409696.83186486]),\n",
       " array([8408408.81585121]),\n",
       " array([8407145.78152027]),\n",
       " array([8405907.24297607]),\n",
       " array([8404692.72380031]),\n",
       " array([8403501.75686711]),\n",
       " array([8402333.88416105]),\n",
       " array([8401188.65659915]),\n",
       " array([8400065.63385605]),\n",
       " array([8398964.38419278]),\n",
       " array([8397884.48428887]),\n",
       " array([8396825.51907763]),\n",
       " array([8395787.08158485]),\n",
       " array([8394768.77277056]),\n",
       " array([8393770.20137381]),\n",
       " array([8392790.98376071]),\n",
       " array([8391830.74377524]),\n",
       " array([8390889.11259309]),\n",
       " array([8389965.72857837]),\n",
       " array([8389060.23714305]),\n",
       " array([8388172.29060928]),\n",
       " array([8387301.54807426]),\n",
       " array([8386447.67527792]),\n",
       " array([8385610.34447307]),\n",
       " array([8384789.23429807]),\n",
       " array([8383984.0296522]),\n",
       " array([8383194.42157321]),\n",
       " array([8382420.10711748]),\n",
       " array([8381660.78924232]),\n",
       " array([8380916.17669086]),\n",
       " array([8380185.9838789]),\n",
       " array([8379469.93078417]),\n",
       " array([8378767.74283767]),\n",
       " array([8378079.15081718]),\n",
       " array([8377403.89074283]),\n",
       " array([8376741.70377474]),\n",
       " array([8376092.33611266]),\n",
       " array([8375455.53889752]),\n",
       " array([8374831.06811502]),\n",
       " array([8374218.68450099]),\n",
       " array([8373618.15344867]),\n",
       " array([8373029.24491783]),\n",
       " array([8372451.73334555]),\n",
       " array([8371885.39755889]),\n",
       " array([8371330.02068921]),\n",
       " array([8370785.3900881]),\n",
       " array([8370251.29724513]),\n",
       " array([8369727.53770694]),\n",
       " array([8369213.91099821]),\n",
       " array([8368710.22054403]),\n",
       " array([8368216.27359371]),\n",
       " array([8367731.88114619]),\n",
       " array([8367256.85787698]),\n",
       " array([8366791.02206636]),\n",
       " array([8366334.19552903]),\n",
       " array([8365886.20354527]),\n",
       " array([8365446.87479326]),\n",
       " array([8365016.04128286]),\n",
       " array([8364593.53829059]),\n",
       " array([8364179.20429597]),\n",
       " array([8363772.88091904]),\n",
       " array([8363374.41285912]),\n",
       " array([8362983.64783475]),\n",
       " array([8362600.43652491]),\n",
       " array([8362224.63251117]),\n",
       " array([8361856.09222126]),\n",
       " array([8361494.67487344]),\n",
       " array([8361140.24242221]),\n",
       " array([8360792.65950493]),\n",
       " array([8360451.79338957]),\n",
       " array([8360117.51392337]),\n",
       " array([8359789.69348267]),\n",
       " array([8359468.20692353]),\n",
       " array([8359152.93153347]),\n",
       " array([8358843.74698414]),\n",
       " array([8358540.53528472]),\n",
       " array([8358243.18073657]),\n",
       " array([8357951.56988837]),\n",
       " array([8357665.59149256]),\n",
       " array([8357385.13646221]),\n",
       " array([8357110.09782907]),\n",
       " array([8356840.37070226]),\n",
       " array([8356575.85222784]),\n",
       " array([8356316.44154908]),\n",
       " array([8356062.03976761]),\n",
       " array([8355812.5499053]),\n",
       " array([8355567.87686685]),\n",
       " array([8355327.92740312]),\n",
       " array([8355092.6100752]),\n",
       " array([8354861.83521917]),\n",
       " array([8354635.51491157]),\n",
       " array([8354413.56293548]),\n",
       " array([8354195.89474731]),\n",
       " array([8353982.42744425]),\n",
       " array([8353773.07973233]),\n",
       " array([8353567.77189511]),\n",
       " array([8353366.425763]),\n",
       " array([8353168.96468309]),\n",
       " array([8352975.3134897]),\n",
       " array([8352785.39847551]),\n",
       " array([8352599.147363]),\n",
       " array([8352416.48927679]),\n",
       " array([8352237.35471633]),\n",
       " array([8352061.67552911]),\n",
       " array([8351889.38488452]),\n",
       " array([8351720.41724802]),\n",
       " array([8351554.70835606]),\n",
       " array([8351392.19519129]),\n",
       " array([8351232.81595833]),\n",
       " array([8351076.51006003]),\n",
       " array([8350923.21807414]),\n",
       " array([8350772.88173052]),\n",
       " array([8350625.44388868]),\n",
       " array([8350480.84851583]),\n",
       " array([8350339.04066538]),\n",
       " array([8350199.96645581]),\n",
       " array([8350063.57304997]),\n",
       " array([8349929.8086347]),\n",
       " array([8349798.62240112]),\n",
       " array([8349669.9645249]),\n",
       " array([8349543.78614724]),\n",
       " array([8349420.03935611]),\n",
       " array([8349298.6771678]),\n",
       " array([8349179.65350893]),\n",
       " array([8349062.92319876]),\n",
       " array([8348948.44193177]),\n",
       " array([8348836.16626081]),\n",
       " array([8348726.05358026]),\n",
       " array([8348618.06210978]),\n",
       " array([8348512.15087829]),\n",
       " array([8348408.27970817]),\n",
       " array([8348306.40919993]),\n",
       " array([8348206.50071708]),\n",
       " array([8348108.51637126]),\n",
       " array([8348012.41900781]),\n",
       " array([8347918.17219139]),\n",
       " array([8347825.74019219]),\n",
       " array([8347735.08797205]),\n",
       " array([8347646.18117114]),\n",
       " array([8347558.98609482]),\n",
       " array([8347473.46970058]),\n",
       " array([8347389.59958554]),\n",
       " array([8347307.34397395]),\n",
       " array([8347226.67170507]),\n",
       " array([8347147.55222117]),\n",
       " array([8347069.95555588]),\n",
       " array([8346993.85232267]),\n",
       " array([8346919.21370367]),\n",
       " array([8346846.01143855]),\n",
       " array([8346774.21781378]),\n",
       " array([8346703.80565194]),\n",
       " array([8346634.74830142]),\n",
       " array([8346567.01962612]),\n",
       " array([8346500.59399552]),\n",
       " array([8346435.44627483]),\n",
       " array([8346371.55181543]),\n",
       " array([8346308.88644537]),\n",
       " array([8346247.42646018]),\n",
       " array([8346187.14861375]),\n",
       " array([8346128.03010953]),\n",
       " array([8346070.04859173]),\n",
       " array([8346013.18213681]),\n",
       " array([8345957.40924509]),\n",
       " array([8345902.70883255]),\n",
       " array([8345849.06022273]),\n",
       " array([8345796.44313888]),\n",
       " array([8345744.83769622]),\n",
       " array([8345694.22439424]),\n",
       " array([8345644.58410939]),\n",
       " array([8345595.89808766]),\n",
       " array([8345548.14793752]),\n",
       " array([8345501.31562281]),\n",
       " array([8345455.3834559]),\n",
       " array([8345410.3340909]),\n",
       " array([8345366.1505171]),\n",
       " array([8345322.81605243]),\n",
       " array([8345280.31433708]),\n",
       " array([8345238.62932729]),\n",
       " array([8345197.74528926]),\n",
       " array([8345157.64679304]),\n",
       " array([8345118.31870675]),\n",
       " array([8345079.74619074]),\n",
       " array([8345041.914692]),\n",
       " array([8345004.8099385]),\n",
       " array([8344968.41793388]),\n",
       " array([8344932.724952]),\n",
       " array([8344897.71753179]),\n",
       " array([8344863.38247204]),\n",
       " array([8344829.70682648]),\n",
       " array([8344796.6778987]),\n",
       " array([8344764.28323745]),\n",
       " array([8344732.51063177]),\n",
       " array([8344701.34810648]),\n",
       " array([8344670.78391749]),\n",
       " array([8344640.8065474]),\n",
       " array([8344611.40470103]),\n",
       " array([8344582.56730127]),\n",
       " array([8344554.28348474]),\n",
       " array([8344526.54259765]),\n",
       " array([8344499.3341918]),\n",
       " array([8344472.64802059]),\n",
       " array([8344446.4740351]),\n",
       " array([8344420.80238028]),\n",
       " array([8344395.62339121]),\n",
       " array([8344370.92758941]),\n",
       " array([8344346.70567918]),\n",
       " array([8344322.94854421]),\n",
       " array([8344299.6472439]),\n",
       " array([8344276.79301022]),\n",
       " array([8344254.37724411]),\n",
       " array([8344232.39151242]),\n",
       " array([8344210.82754455]),\n",
       " array([8344189.67722944]),\n",
       " array([8344168.93261236]),\n",
       " array([8344148.58589202]),\n",
       " array([8344128.62941747]),\n",
       " array([8344109.05568526]),\n",
       " array([8344089.85733662]),\n",
       " array([8344071.0271546]),\n",
       " array([8344052.55806136]),\n",
       " array([8344034.4431155]),\n",
       " array([8344016.67550939]),\n",
       " array([8343999.24856658]),\n",
       " array([8343982.1557393]),\n",
       " array([8343965.39060594]),\n",
       " array([8343948.94686865]),\n",
       " array([8343932.81835093]),\n",
       " array([8343916.99899525]),\n",
       " array([8343901.48286083]),\n",
       " array([8343886.26412127]),\n",
       " array([8343871.3370625]),\n",
       " array([8343856.69608043]),\n",
       " array([8343842.33567899]),\n",
       " array([8343828.25046793]),\n",
       " array([8343814.43516083]),\n",
       " array([8343800.88457305]),\n",
       " array([8343787.59361986]),\n",
       " array([8343774.55731439]),\n",
       " array([8343761.77076582]),\n",
       " array([8343749.2291775]),\n",
       " array([8343736.92784512]),\n",
       " array([8343724.86215498]),\n",
       " array([8343713.02758216]),\n",
       " array([8343701.41968889]),\n",
       " array([8343690.03412278]),\n",
       " array([8343678.86661527]),\n",
       " array([8343667.91297992]),\n",
       " array([8343657.16911088]),\n",
       " array([8343646.63098134]),\n",
       " array([8343636.29464196]),\n",
       " array([8343626.15621944]),\n",
       " array([8343616.21191496]),\n",
       " array([8343606.45800284]),\n",
       " array([8343596.89082906]),\n",
       " array([8343587.50680992]),\n",
       " array([8343578.30243067]),\n",
       " array([8343569.27424417]),\n",
       " array([8343560.41886959]),\n",
       " array([8343551.73299114]),\n",
       " array([8343543.21335679])]"
      ]
     },
     "execution_count": 14,
     "metadata": {},
     "output_type": "execute_result"
    }
   ],
   "source": [
    "errors"
   ]
  },
  {
   "cell_type": "code",
   "execution_count": 15,
   "metadata": {},
   "outputs": [
    {
     "data": {
      "text/plain": [
       "[<matplotlib.lines.Line2D at 0x27c6b3f0160>]"
      ]
     },
     "execution_count": 15,
     "metadata": {},
     "output_type": "execute_result"
    },
    {
     "data": {
      "image/png": "[encoded data removed]",
      "text/plain": [
       "<Figure size 432x288 with 1 Axes>"
      ]
     },
     "metadata": {
      "needs_background": "light"
     },
     "output_type": "display_data"
    }
   ],
   "source": [
    "plt.plot(errors)"
   ]
  },
  {
   "cell_type": "code",
   "execution_count": null,
   "metadata": {},
   "outputs": [],
   "source": []
  },
  {
   "cell_type": "code",
   "execution_count": null,
   "metadata": {},
   "outputs": [],
   "source": []
  },
  {
   "cell_type": "code",
   "execution_count": null,
   "metadata": {},
   "outputs": [],
   "source": []
  },
  {
   "cell_type": "code",
   "execution_count": null,
   "metadata": {},
   "outputs": [],
   "source": []
  },
  {
   "cell_type": "code",
   "execution_count": null,
   "metadata": {},
   "outputs": [],
   "source": []
  },
  {
   "cell_type": "code",
   "execution_count": null,
   "metadata": {},
   "outputs": [],
   "source": []
  },
  {
   "cell_type": "code",
   "execution_count": null,
   "metadata": {},
   "outputs": [],
   "source": []
  },
  {
   "cell_type": "code",
   "execution_count": null,
   "metadata": {},
   "outputs": [],
   "source": []
  },
  {
   "cell_type": "code",
   "execution_count": null,
   "metadata": {},
   "outputs": [],
   "source": []
  },
  {
   "cell_type": "code",
   "execution_count": null,
   "metadata": {},
   "outputs": [],
   "source": []
  },
  {
   "cell_type": "code",
   "execution_count": null,
   "metadata": {},
   "outputs": [],
   "source": []
  },
  {
   "cell_type": "code",
   "execution_count": null,
   "metadata": {},
   "outputs": [],
   "source": []
  },
  {
   "cell_type": "code",
   "execution_count": null,
   "metadata": {},
   "outputs": [],
   "source": []
  },
  {
   "cell_type": "code",
   "execution_count": null,
   "metadata": {},
   "outputs": [],
   "source": []
  },
  {
   "cell_type": "code",
   "execution_count": null,
   "metadata": {},
   "outputs": [],
   "source": []
  },
  {
   "cell_type": "code",
   "execution_count": null,
   "metadata": {},
   "outputs": [],
   "source": []
  },
  {
   "cell_type": "code",
   "execution_count": null,
   "metadata": {},
   "outputs": [],
   "source": []
  },
  {
   "cell_type": "code",
   "execution_count": null,
   "metadata": {},
   "outputs": [],
   "source": []
  },
  {
   "cell_type": "code",
   "execution_count": null,
   "metadata": {},
   "outputs": [],
   "source": []
  },
  {
   "cell_type": "code",
   "execution_count": null,
   "metadata": {},
   "outputs": [],
   "source": []
  },
  {
   "cell_type": "code",
   "execution_count": null,
   "metadata": {},
   "outputs": [],
   "source": []
  },
  {
   "cell_type": "code",
   "execution_count": null,
   "metadata": {},
   "outputs": [],
   "source": []
  },
  {
   "cell_type": "code",
   "execution_count": null,
   "metadata": {},
   "outputs": [],
   "source": []
  },
  {
   "cell_type": "code",
   "execution_count": null,
   "metadata": {},
   "outputs": [],
   "source": []
  },
  {
   "cell_type": "code",
   "execution_count": null,
   "metadata": {},
   "outputs": [],
   "source": []
  },
  {
   "cell_type": "code",
   "execution_count": null,
   "metadata": {},
   "outputs": [],
   "source": []
  },
  {
   "cell_type": "code",
   "execution_count": null,
   "metadata": {},
   "outputs": [],
   "source": []
  },
  {
   "cell_type": "code",
   "execution_count": null,
   "metadata": {},
   "outputs": [],
   "source": []
  },
  {
   "cell_type": "code",
   "execution_count": null,
   "metadata": {},
   "outputs": [],
   "source": []
  },
  {
   "cell_type": "code",
   "execution_count": null,
   "metadata": {},
   "outputs": [],
   "source": []
  },
  {
   "cell_type": "code",
   "execution_count": null,
   "metadata": {},
   "outputs": [],
   "source": []
  },
  {
   "cell_type": "code",
   "execution_count": null,
   "metadata": {},
   "outputs": [],
   "source": []
  },
  {
   "cell_type": "code",
   "execution_count": null,
   "metadata": {},
   "outputs": [],
   "source": []
  },
  {
   "cell_type": "code",
   "execution_count": null,
   "metadata": {},
   "outputs": [],
   "source": []
  },
  {
   "cell_type": "code",
   "execution_count": null,
   "metadata": {},
   "outputs": [],
   "source": []
  },
  {
   "cell_type": "code",
   "execution_count": null,
   "metadata": {},
   "outputs": [],
   "source": []
  },
  {
   "cell_type": "code",
   "execution_count": null,
   "metadata": {},
   "outputs": [],
   "source": []
  },
  {
   "cell_type": "code",
   "execution_count": null,
   "metadata": {},
   "outputs": [],
   "source": []
  },
  {
   "cell_type": "code",
   "execution_count": null,
   "metadata": {},
   "outputs": [],
   "source": []
  },
  {
   "cell_type": "code",
   "execution_count": null,
   "metadata": {},
   "outputs": [],
   "source": []
  },
  {
   "cell_type": "code",
   "execution_count": null,
   "metadata": {},
   "outputs": [],
   "source": []
  },
  {
   "cell_type": "code",
   "execution_count": null,
   "metadata": {},
   "outputs": [],
   "source": []
  },
  {
   "cell_type": "code",
   "execution_count": null,
   "metadata": {},
   "outputs": [],
   "source": []
  },
  {
   "cell_type": "code",
   "execution_count": null,
   "metadata": {},
   "outputs": [],
   "source": []
  },
  {
   "cell_type": "code",
   "execution_count": null,
   "metadata": {},
   "outputs": [],
   "source": []
  },
  {
   "cell_type": "code",
   "execution_count": null,
   "metadata": {},
   "outputs": [],
   "source": []
  },
  {
   "cell_type": "code",
   "execution_count": null,
   "metadata": {},
   "outputs": [],
   "source": []
  },
  {
   "cell_type": "code",
   "execution_count": null,
   "metadata": {},
   "outputs": [],
   "source": []
  },
  {
   "cell_type": "code",
   "execution_count": null,
   "metadata": {},
   "outputs": [],
   "source": []
  },
  {
   "cell_type": "code",
   "execution_count": null,
   "metadata": {},
   "outputs": [],
   "source": []
  },
  {
   "cell_type": "code",
   "execution_count": null,
   "metadata": {},
   "outputs": [],
   "source": []
  },
  {
   "cell_type": "code",
   "execution_count": null,
   "metadata": {},
   "outputs": [],
   "source": []
  },
  {
   "cell_type": "code",
   "execution_count": null,
   "metadata": {},
   "outputs": [],
   "source": []
  },
  {
   "cell_type": "code",
   "execution_count": null,
   "metadata": {},
   "outputs": [],
   "source": []
  },
  {
   "cell_type": "code",
   "execution_count": null,
   "metadata": {},
   "outputs": [],
   "source": []
  },
  {
   "cell_type": "code",
   "execution_count": null,
   "metadata": {},
   "outputs": [],
   "source": []
  },
  {
   "cell_type": "code",
   "execution_count": null,
   "metadata": {},
   "outputs": [],
   "source": []
  },
  {
   "cell_type": "code",
   "execution_count": null,
   "metadata": {},
   "outputs": [],
   "source": []
  },
  {
   "cell_type": "code",
   "execution_count": null,
   "metadata": {},
   "outputs": [],
   "source": []
  },
  {
   "cell_type": "code",
   "execution_count": null,
   "metadata": {},
   "outputs": [],
   "source": []
  },
  {
   "cell_type": "code",
   "execution_count": null,
   "metadata": {},
   "outputs": [],
   "source": []
  },
  {
   "cell_type": "code",
   "execution_count": null,
   "metadata": {},
   "outputs": [],
   "source": []
  },
  {
   "cell_type": "code",
   "execution_count": null,
   "metadata": {},
   "outputs": [],
   "source": []
  },
  {
   "cell_type": "code",
   "execution_count": null,
   "metadata": {},
   "outputs": [],
   "source": []
  }
 ],
 "metadata": {
  "kernelspec": {
   "display_name": "Python 3",
   "language": "python",
   "name": "python3"
  },
  "language_info": {
   "codemirror_mode": {
    "name": "ipython",
    "version": 3
   },
   "file_extension": ".py",
   "mimetype": "text/x-python",
   "name": "python",
   "nbconvert_exporter": "python",
   "pygments_lexer": "ipython3",
   "version": "3.7.3"
  }
 },
 "nbformat": 4,
 "nbformat_minor": 2
}
