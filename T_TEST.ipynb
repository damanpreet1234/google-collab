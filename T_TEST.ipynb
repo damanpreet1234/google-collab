{
  "nbformat": 4,
  "nbformat_minor": 0,
  "metadata": {
    "colab": {
      "name": "T- TEST.ipynb",
      "provenance": [],
      "collapsed_sections": [],
      "toc_visible": true
    },
    "kernelspec": {
      "name": "python3",
      "display_name": "Python 3"
    }
  },
  "cells": [
    {
      "cell_type": "markdown",
      "metadata": {
        "id": "3rMTa-Bgz4SR"
      },
      "source": [
        "\n",
        "#T Test\n",
        "\n",
        "A t-test is a type of inferential statistic which is used to determine if there is a significant difference between the means of two groups which may be related in certain features\n",
        "\n",
        "T-test has 2 types : 1. one sampled t-test 2. two-sampled t-test"
      ]
    },
    {
      "cell_type": "markdown",
      "metadata": {
        "id": "OpIxVuD40JDi"
      },
      "source": [
        "##1. One-sample T-test with Python\n",
        "\n",
        "The test will tell us whether means of the sample and the population are different"
      ]
    },
    {
      "cell_type": "code",
      "metadata": {
        "id": "cNBItJ1Pwuiy"
      },
      "source": [
        "ages=[10,20,35,50,28,40,55,18,16,55,30,25,43,18,30,28,14,24,16,17,32,35,26,27,65,18,43,23,21,20,19,70]\n"
      ],
      "execution_count": 1,
      "outputs": []
    },
    {
      "cell_type": "code",
      "metadata": {
        "colab": {
          "base_uri": "https://localhost:8080/"
        },
        "id": "yVxMfD6W0TK-",
        "outputId": "4fe2273d-6e8a-43af-c076-6b4ddb59769b"
      },
      "source": [
        "len(ages)"
      ],
      "execution_count": 2,
      "outputs": [
        {
          "output_type": "execute_result",
          "data": {
            "text/plain": [
              "32"
            ]
          },
          "metadata": {
            "tags": []
          },
          "execution_count": 2
        }
      ]
    },
    {
      "cell_type": "code",
      "metadata": {
        "colab": {
          "base_uri": "https://localhost:8080/"
        },
        "id": "aVacEZLD0Yly",
        "outputId": "10d1fdd3-d101-4705-feb8-cc7337d605f7"
      },
      "source": [
        "import numpy as np\n",
        "ages_mean=np.mean(ages)\n",
        "print(ages_mean)"
      ],
      "execution_count": 3,
      "outputs": [
        {
          "output_type": "stream",
          "text": [
            "30.34375\n"
          ],
          "name": "stdout"
        }
      ]
    },
    {
      "cell_type": "code",
      "metadata": {
        "id": "OR98o-H90c3b"
      },
      "source": [
        "## Lets take sample\n",
        "\n",
        "sample_size=10\n",
        "age_sample=np.random.choice(ages,sample_size)"
      ],
      "execution_count": 4,
      "outputs": []
    },
    {
      "cell_type": "code",
      "metadata": {
        "colab": {
          "base_uri": "https://localhost:8080/"
        },
        "id": "bkZhRNWq0fXP",
        "outputId": "3f145f3a-8040-45b3-a43c-2ce2ee7cccc2"
      },
      "source": [
        "age_sample"
      ],
      "execution_count": 5,
      "outputs": [
        {
          "output_type": "execute_result",
          "data": {
            "text/plain": [
              "array([35, 43, 18, 35, 70, 43, 28, 23, 18, 14])"
            ]
          },
          "metadata": {
            "tags": []
          },
          "execution_count": 5
        }
      ]
    },
    {
      "cell_type": "code",
      "metadata": {
        "id": "LJYUuK_F0hwg"
      },
      "source": [
        "from scipy.stats import ttest_1samp"
      ],
      "execution_count": 6,
      "outputs": []
    },
    {
      "cell_type": "code",
      "metadata": {
        "id": "4Kr8jaJ60jwu"
      },
      "source": [
        "ttest,p_value=ttest_1samp(age_sample,30)"
      ],
      "execution_count": 7,
      "outputs": []
    },
    {
      "cell_type": "code",
      "metadata": {
        "colab": {
          "base_uri": "https://localhost:8080/"
        },
        "id": "OG_J0r0Q0mBr",
        "outputId": "2a5c2750-2452-4ddd-98c4-3c53dfa1b376"
      },
      "source": [
        "print(p_value)"
      ],
      "execution_count": 8,
      "outputs": [
        {
          "output_type": "stream",
          "text": [
            "0.6216135560677148\n"
          ],
          "name": "stdout"
        }
      ]
    },
    {
      "cell_type": "code",
      "metadata": {
        "colab": {
          "base_uri": "https://localhost:8080/"
        },
        "id": "w-ZbgIHw0n5P",
        "outputId": "d1ef3312-778d-45bc-d884-92e8bf52f283"
      },
      "source": [
        "if p_value < 0.05:    # alpha value is 0.05 or 5%\n",
        "    print(\" we are rejecting null hypothesis\")\n",
        "else:\n",
        "    print(\"we are accepting null hypothesis\")"
      ],
      "execution_count": 9,
      "outputs": [
        {
          "output_type": "stream",
          "text": [
            "we are accepting null hypothesis\n"
          ],
          "name": "stdout"
        }
      ]
    },
    {
      "cell_type": "code",
      "metadata": {
        "id": "oSSxUn6V0qpX"
      },
      "source": [
        "#ANOTHER EXAMPLE\n",
        "import numpy as np\n",
        "import pandas as pd\n",
        "import scipy.stats as stats\n",
        "import math\n",
        "np.random.seed(6)\n",
        "school_ages=stats.poisson.rvs(loc=18,mu=35,size=1500)\n",
        "classA_ages=stats.poisson.rvs(loc=18,mu=30,size=60)"
      ],
      "execution_count": 10,
      "outputs": []
    },
    {
      "cell_type": "code",
      "metadata": {
        "colab": {
          "base_uri": "https://localhost:8080/"
        },
        "id": "kpjTmTgh0yAj",
        "outputId": "662c5bc8-38c3-4c6b-e499-99ebfd2cc181"
      },
      "source": [
        "classA_ages.mean()\n"
      ],
      "execution_count": 11,
      "outputs": [
        {
          "output_type": "execute_result",
          "data": {
            "text/plain": [
              "46.9"
            ]
          },
          "metadata": {
            "tags": []
          },
          "execution_count": 11
        }
      ]
    },
    {
      "cell_type": "code",
      "metadata": {
        "id": "kj0e5MFl0zz_"
      },
      "source": [
        "_,p_value=stats.ttest_1samp(a=classA_ages,popmean=school_ages.mean())"
      ],
      "execution_count": 12,
      "outputs": []
    },
    {
      "cell_type": "code",
      "metadata": {
        "colab": {
          "base_uri": "https://localhost:8080/"
        },
        "id": "_GMtDhfb01n2",
        "outputId": "ab6de4f6-de68-4e8b-8a29-f21034e82dcc"
      },
      "source": [
        "p_value"
      ],
      "execution_count": 13,
      "outputs": [
        {
          "output_type": "execute_result",
          "data": {
            "text/plain": [
              "1.139027071016194e-13"
            ]
          },
          "metadata": {
            "tags": []
          },
          "execution_count": 13
        }
      ]
    },
    {
      "cell_type": "code",
      "metadata": {
        "colab": {
          "base_uri": "https://localhost:8080/"
        },
        "id": "3EpgYjON04MI",
        "outputId": "f424847f-a483-48d2-cdac-3df3c718f800"
      },
      "source": [
        "school_ages.mean()"
      ],
      "execution_count": 14,
      "outputs": [
        {
          "output_type": "execute_result",
          "data": {
            "text/plain": [
              "53.303333333333335"
            ]
          },
          "metadata": {
            "tags": []
          },
          "execution_count": 14
        }
      ]
    },
    {
      "cell_type": "code",
      "metadata": {
        "colab": {
          "base_uri": "https://localhost:8080/"
        },
        "id": "58G1-DqT06El",
        "outputId": "a3c8e4f5-24d0-4e01-d8fd-865aaa2539d0"
      },
      "source": [
        "if p_value < 0.05:    # alpha value is 0.05 or 5%\n",
        "    print(\" we are rejecting null hypothesis\")\n",
        "else:\n",
        "    print(\"we are accepting null hypothesis\")"
      ],
      "execution_count": 15,
      "outputs": [
        {
          "output_type": "stream",
          "text": [
            " we are rejecting null hypothesis\n"
          ],
          "name": "stdout"
        }
      ]
    },
    {
      "cell_type": "markdown",
      "metadata": {
        "id": "zxnOF3T70_ux"
      },
      "source": [
        "#2. Two-sample T-test With Python\n",
        "\n",
        "The Independent Samples t Test or 2-sample t-test compares the means of two independent groups in order to determine whether there is statistical evidence that the associated population means are significantly different. The Independent Samples t Test is a parametric test. This test is also known as: Independent t Test"
      ]
    },
    {
      "cell_type": "code",
      "metadata": {
        "colab": {
          "base_uri": "https://localhost:8080/"
        },
        "id": "ekb2ZbuD08Zc",
        "outputId": "c4089abb-e494-4db1-b1ab-968afc2ca3be"
      },
      "source": [
        "np.random.seed(12)\n",
        "ClassB_ages=stats.poisson.rvs(loc=18,mu=33,size=60)\n",
        "ClassB_ages.mean()"
      ],
      "execution_count": 16,
      "outputs": [
        {
          "output_type": "execute_result",
          "data": {
            "text/plain": [
              "50.63333333333333"
            ]
          },
          "metadata": {
            "tags": []
          },
          "execution_count": 16
        }
      ]
    },
    {
      "cell_type": "code",
      "metadata": {
        "id": "ELsP1LbE1IqB"
      },
      "source": [
        "_,p_value=stats.ttest_ind(a=classA_ages,b=ClassB_ages,equal_var=False)"
      ],
      "execution_count": 18,
      "outputs": []
    },
    {
      "cell_type": "code",
      "metadata": {
        "colab": {
          "base_uri": "https://localhost:8080/"
        },
        "id": "P7kg99XE1Kw7",
        "outputId": "62a134cd-e8d8-49e4-eda0-eb26cffac590"
      },
      "source": [
        "\n",
        "if p_value < 0.05:    # alpha value is 0.05 or 5%\n",
        "    print(\" we are rejecting null hypothesis\")\n",
        "else:\n",
        "    print(\"we are accepting null hypothesis\")"
      ],
      "execution_count": 19,
      "outputs": [
        {
          "output_type": "stream",
          "text": [
            " we are rejecting null hypothesis\n"
          ],
          "name": "stdout"
        }
      ]
    },
    {
      "cell_type": "markdown",
      "metadata": {
        "id": "esmDpsfO1YO-"
      },
      "source": [
        "#3.Paired T-test With Python\n",
        "\n",
        "When you want to check how different samples from the same group are, you can go for a paired T-test"
      ]
    },
    {
      "cell_type": "code",
      "metadata": {
        "id": "HI1ivOmB1U9a"
      },
      "source": [
        "weight1=[25,30,28,35,28,34,26,29,30,26,28,32,31,30,45]\n",
        "weight2=weight1+stats.norm.rvs(scale=5,loc=-1.25,size=15)"
      ],
      "execution_count": 20,
      "outputs": []
    },
    {
      "cell_type": "code",
      "metadata": {
        "colab": {
          "base_uri": "https://localhost:8080/"
        },
        "id": "XWMrT3Gd1drX",
        "outputId": "21ffe0a6-171e-462c-c8a3-5570b9170e29"
      },
      "source": [
        "print(weight1)\n",
        "print(weight2)"
      ],
      "execution_count": 21,
      "outputs": [
        {
          "output_type": "stream",
          "text": [
            "[25, 30, 28, 35, 28, 34, 26, 29, 30, 26, 28, 32, 31, 30, 45]\n",
            "[30.57926457 34.91022437 29.00444617 30.54295091 19.86201983 37.57873174\n",
            " 18.3299827  21.3771395  36.36420881 32.05941216 26.93827982 29.519014\n",
            " 26.42851213 30.50667769 41.32984284]\n"
          ],
          "name": "stdout"
        }
      ]
    },
    {
      "cell_type": "code",
      "metadata": {
        "id": "QAb1I7K11iD7"
      },
      "source": [
        "weight_df=pd.DataFrame({\"weight_10\":np.array(weight1),\n",
        "                         \"weight_20\":np.array(weight2),\n",
        "                       \"weight_change\":np.array(weight2)-np.array(weight1)})"
      ],
      "execution_count": 22,
      "outputs": []
    },
    {
      "cell_type": "code",
      "metadata": {
        "colab": {
          "base_uri": "https://localhost:8080/",
          "height": 491
        },
        "id": "M7kEFOYh1kuQ",
        "outputId": "9a83e859-58f4-43ea-e309-ef75fe44d034"
      },
      "source": [
        "weight_df"
      ],
      "execution_count": 23,
      "outputs": [
        {
          "output_type": "execute_result",
          "data": {
            "text/html": [
              "<div>\n",
              "<style scoped>\n",
              "    .dataframe tbody tr th:only-of-type {\n",
              "        vertical-align: middle;\n",
              "    }\n",
              "\n",
              "    .dataframe tbody tr th {\n",
              "        vertical-align: top;\n",
              "    }\n",
              "\n",
              "    .dataframe thead th {\n",
              "        text-align: right;\n",
              "    }\n",
              "</style>\n",
              "<table border=\"1\" class=\"dataframe\">\n",
              "  <thead>\n",
              "    <tr style=\"text-align: right;\">\n",
              "      <th></th>\n",
              "      <th>weight_10</th>\n",
              "      <th>weight_20</th>\n",
              "      <th>weight_change</th>\n",
              "    </tr>\n",
              "  </thead>\n",
              "  <tbody>\n",
              "    <tr>\n",
              "      <th>0</th>\n",
              "      <td>25</td>\n",
              "      <td>30.579265</td>\n",
              "      <td>5.579265</td>\n",
              "    </tr>\n",
              "    <tr>\n",
              "      <th>1</th>\n",
              "      <td>30</td>\n",
              "      <td>34.910224</td>\n",
              "      <td>4.910224</td>\n",
              "    </tr>\n",
              "    <tr>\n",
              "      <th>2</th>\n",
              "      <td>28</td>\n",
              "      <td>29.004446</td>\n",
              "      <td>1.004446</td>\n",
              "    </tr>\n",
              "    <tr>\n",
              "      <th>3</th>\n",
              "      <td>35</td>\n",
              "      <td>30.542951</td>\n",
              "      <td>-4.457049</td>\n",
              "    </tr>\n",
              "    <tr>\n",
              "      <th>4</th>\n",
              "      <td>28</td>\n",
              "      <td>19.862020</td>\n",
              "      <td>-8.137980</td>\n",
              "    </tr>\n",
              "    <tr>\n",
              "      <th>5</th>\n",
              "      <td>34</td>\n",
              "      <td>37.578732</td>\n",
              "      <td>3.578732</td>\n",
              "    </tr>\n",
              "    <tr>\n",
              "      <th>6</th>\n",
              "      <td>26</td>\n",
              "      <td>18.329983</td>\n",
              "      <td>-7.670017</td>\n",
              "    </tr>\n",
              "    <tr>\n",
              "      <th>7</th>\n",
              "      <td>29</td>\n",
              "      <td>21.377139</td>\n",
              "      <td>-7.622861</td>\n",
              "    </tr>\n",
              "    <tr>\n",
              "      <th>8</th>\n",
              "      <td>30</td>\n",
              "      <td>36.364209</td>\n",
              "      <td>6.364209</td>\n",
              "    </tr>\n",
              "    <tr>\n",
              "      <th>9</th>\n",
              "      <td>26</td>\n",
              "      <td>32.059412</td>\n",
              "      <td>6.059412</td>\n",
              "    </tr>\n",
              "    <tr>\n",
              "      <th>10</th>\n",
              "      <td>28</td>\n",
              "      <td>26.938280</td>\n",
              "      <td>-1.061720</td>\n",
              "    </tr>\n",
              "    <tr>\n",
              "      <th>11</th>\n",
              "      <td>32</td>\n",
              "      <td>29.519014</td>\n",
              "      <td>-2.480986</td>\n",
              "    </tr>\n",
              "    <tr>\n",
              "      <th>12</th>\n",
              "      <td>31</td>\n",
              "      <td>26.428512</td>\n",
              "      <td>-4.571488</td>\n",
              "    </tr>\n",
              "    <tr>\n",
              "      <th>13</th>\n",
              "      <td>30</td>\n",
              "      <td>30.506678</td>\n",
              "      <td>0.506678</td>\n",
              "    </tr>\n",
              "    <tr>\n",
              "      <th>14</th>\n",
              "      <td>45</td>\n",
              "      <td>41.329843</td>\n",
              "      <td>-3.670157</td>\n",
              "    </tr>\n",
              "  </tbody>\n",
              "</table>\n",
              "</div>"
            ],
            "text/plain": [
              "    weight_10  weight_20  weight_change\n",
              "0          25  30.579265       5.579265\n",
              "1          30  34.910224       4.910224\n",
              "2          28  29.004446       1.004446\n",
              "3          35  30.542951      -4.457049\n",
              "4          28  19.862020      -8.137980\n",
              "5          34  37.578732       3.578732\n",
              "6          26  18.329983      -7.670017\n",
              "7          29  21.377139      -7.622861\n",
              "8          30  36.364209       6.364209\n",
              "9          26  32.059412       6.059412\n",
              "10         28  26.938280      -1.061720\n",
              "11         32  29.519014      -2.480986\n",
              "12         31  26.428512      -4.571488\n",
              "13         30  30.506678       0.506678\n",
              "14         45  41.329843      -3.670157"
            ]
          },
          "metadata": {
            "tags": []
          },
          "execution_count": 23
        }
      ]
    },
    {
      "cell_type": "code",
      "metadata": {
        "id": "KMI-CKjW1mpS"
      },
      "source": [
        "_,p_value=stats.ttest_rel(a=weight1,b=weight2)"
      ],
      "execution_count": 24,
      "outputs": []
    },
    {
      "cell_type": "code",
      "metadata": {
        "colab": {
          "base_uri": "https://localhost:8080/"
        },
        "id": "ylGLJjKZ1pF6",
        "outputId": "ee47c1b3-2df8-4bfc-dfa2-722de4c3e65e"
      },
      "source": [
        "print(p_value)"
      ],
      "execution_count": 25,
      "outputs": [
        {
          "output_type": "stream",
          "text": [
            "0.5732936534411279\n"
          ],
          "name": "stdout"
        }
      ]
    },
    {
      "cell_type": "code",
      "metadata": {
        "colab": {
          "base_uri": "https://localhost:8080/"
        },
        "id": "DwcMIwJV1rrZ",
        "outputId": "837566fb-48bb-4452-f66d-af29613fb8d7"
      },
      "source": [
        "if p_value < 0.05:    # alpha value is 0.05 or 5%\n",
        "    print(\" we are rejecting null hypothesis\")\n",
        "else:\n",
        "    print(\"we are accepting null hypothesis\")"
      ],
      "execution_count": 26,
      "outputs": [
        {
          "output_type": "stream",
          "text": [
            "we are accepting null hypothesis\n"
          ],
          "name": "stdout"
        }
      ]
    },
    {
      "cell_type": "code",
      "metadata": {
        "id": "06EmiKqG1twz"
      },
      "source": [
        ""
      ],
      "execution_count": null,
      "outputs": []
    }
  ]
}