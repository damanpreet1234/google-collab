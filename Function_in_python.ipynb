{
  "nbformat": 4,
  "nbformat_minor": 0,
  "metadata": {
    "colab": {
      "name": "Function in python.ipynb",
      "provenance": [],
      "collapsed_sections": []
    },
    "kernelspec": {
      "name": "python3",
      "display_name": "Python 3"
    }
  },
  "cells": [
    {
      "cell_type": "code",
      "metadata": {
        "id": "XWbB4S-ovjLN"
      },
      "source": [
        "def even_odd(num):\n",
        "  if num%2==0:\n",
        "    print('even')\n",
        "  else:\n",
        "    print('odd')\n",
        "    "
      ],
      "execution_count": 1,
      "outputs": []
    },
    {
      "cell_type": "code",
      "metadata": {
        "id": "1yIHErmBv4e6",
        "outputId": "79111beb-da1b-4d8a-ee5e-7e731064f5ed",
        "colab": {
          "base_uri": "https://localhost:8080/",
          "height": 34
        }
      },
      "source": [
        "even_odd(56)"
      ],
      "execution_count": 2,
      "outputs": [
        {
          "output_type": "stream",
          "text": [
            "even\n"
          ],
          "name": "stdout"
        }
      ]
    },
    {
      "cell_type": "code",
      "metadata": {
        "id": "zP5busrQv8Fj"
      },
      "source": [
        "#print vs return\n",
        "def helloworld():\n",
        "  print(\"hello\")"
      ],
      "execution_count": 3,
      "outputs": []
    },
    {
      "cell_type": "code",
      "metadata": {
        "id": "FuQpf9cWxwBY",
        "outputId": "1a0480b3-c9b3-4ad1-e442-2cb31ce1ddb4",
        "colab": {
          "base_uri": "https://localhost:8080/",
          "height": 34
        }
      },
      "source": [
        "helloworld()"
      ],
      "execution_count": 5,
      "outputs": [
        {
          "output_type": "stream",
          "text": [
            "hello\n"
          ],
          "name": "stdout"
        }
      ]
    },
    {
      "cell_type": "code",
      "metadata": {
        "id": "ZrkzNeDxxyJD",
        "outputId": "9ae0a5d3-70c9-4e19-89d5-4bfa3b82dc7c",
        "colab": {
          "base_uri": "https://localhost:8080/",
          "height": 34
        }
      },
      "source": [
        "val =helloworld()"
      ],
      "execution_count": 6,
      "outputs": [
        {
          "output_type": "stream",
          "text": [
            "hello\n"
          ],
          "name": "stdout"
        }
      ]
    },
    {
      "cell_type": "code",
      "metadata": {
        "id": "R6nVuMwfx2Eo",
        "outputId": "54456ce0-fde0-4f53-e380-578cc71ef365",
        "colab": {
          "base_uri": "https://localhost:8080/",
          "height": 34
        }
      },
      "source": [
        "print(val)"
      ],
      "execution_count": 7,
      "outputs": [
        {
          "output_type": "stream",
          "text": [
            "None\n"
          ],
          "name": "stdout"
        }
      ]
    },
    {
      "cell_type": "code",
      "metadata": {
        "id": "RZnZaLXIx5ER"
      },
      "source": [
        "def helloworld1():\n",
        "  return\"hello\""
      ],
      "execution_count": 13,
      "outputs": []
    },
    {
      "cell_type": "code",
      "metadata": {
        "id": "nEUrpNfWx-0o",
        "outputId": "3bb11fc3-6da3-48ef-bd51-405b44519583",
        "colab": {
          "base_uri": "https://localhost:8080/",
          "height": 35
        }
      },
      "source": [
        "helloworld1()"
      ],
      "execution_count": 14,
      "outputs": [
        {
          "output_type": "execute_result",
          "data": {
            "application/vnd.google.colaboratory.intrinsic+json": {
              "type": "string"
            },
            "text/plain": [
              "'hello'"
            ]
          },
          "metadata": {
            "tags": []
          },
          "execution_count": 14
        }
      ]
    },
    {
      "cell_type": "code",
      "metadata": {
        "id": "MrB5iCfmyCm0"
      },
      "source": [
        "val1 = helloworld1()"
      ],
      "execution_count": 17,
      "outputs": []
    },
    {
      "cell_type": "code",
      "metadata": {
        "id": "d0CowztXyFk3",
        "outputId": "2ccd1af2-3f78-4258-b9db-8842e41a9d51",
        "colab": {
          "base_uri": "https://localhost:8080/",
          "height": 34
        }
      },
      "source": [
        "print(val1)"
      ],
      "execution_count": 18,
      "outputs": [
        {
          "output_type": "stream",
          "text": [
            "hello\n"
          ],
          "name": "stdout"
        }
      ]
    },
    {
      "cell_type": "code",
      "metadata": {
        "id": "2oJmWPJfyQw_"
      },
      "source": [
        "def hello(name , age =23):\n",
        "  print(\"my name is {} and i am {} years old\" .format(name , age))"
      ],
      "execution_count": 19,
      "outputs": []
    },
    {
      "cell_type": "code",
      "metadata": {
        "id": "DkfOf2X2y-H3",
        "outputId": "27758deb-2d67-47e1-ca3e-ccc86317e42c",
        "colab": {
          "base_uri": "https://localhost:8080/",
          "height": 34
        }
      },
      "source": [
        "hello('daman')"
      ],
      "execution_count": 21,
      "outputs": [
        {
          "output_type": "stream",
          "text": [
            "my name is daman and i am 23 years old\n"
          ],
          "name": "stdout"
        }
      ]
    },
    {
      "cell_type": "code",
      "metadata": {
        "id": "XqJEQ807zA-m"
      },
      "source": [
        "#positional and keyword argument\n",
        "def hi(*args ,**kwargs):\n",
        "  print(args)\n",
        "  print(kwargs)"
      ],
      "execution_count": 26,
      "outputs": []
    },
    {
      "cell_type": "code",
      "metadata": {
        "id": "8k2e83H306r8",
        "outputId": "b8eef002-5484-4ab4-a4e8-34552fcfbd18",
        "colab": {
          "base_uri": "https://localhost:8080/",
          "height": 50
        }
      },
      "source": [
        "hi('daman','preet','singh',age = 20 ,dob = 2000)"
      ],
      "execution_count": 27,
      "outputs": [
        {
          "output_type": "stream",
          "text": [
            "('daman', 'preet', 'singh')\n",
            "{'age': 20, 'dob': 2000}\n"
          ],
          "name": "stdout"
        }
      ]
    },
    {
      "cell_type": "code",
      "metadata": {
        "id": "-Hhivnup1IpH"
      },
      "source": [
        "st = [1,2,3,4,5,6,7]\n"
      ],
      "execution_count": 30,
      "outputs": []
    },
    {
      "cell_type": "code",
      "metadata": {
        "id": "EL7jU9MU19kw"
      },
      "source": [
        "def evenoddsum(st):\n",
        "  evensum = 0\n",
        "  oddsum = 0\n",
        "  for i in st :\n",
        "    if i%2==0:\n",
        "      evensum = evensum+i\n",
        "    else:\n",
        "      oddsum = oddsum+i\n",
        "  return evensum , oddsum"
      ],
      "execution_count": 34,
      "outputs": []
    },
    {
      "cell_type": "code",
      "metadata": {
        "id": "orTyRJPm20Vo",
        "outputId": "f74fbee1-43f4-465e-a773-70f84f5e0384",
        "colab": {
          "base_uri": "https://localhost:8080/",
          "height": 34
        }
      },
      "source": [
        "evenoddsum(st)"
      ],
      "execution_count": 35,
      "outputs": [
        {
          "output_type": "execute_result",
          "data": {
            "text/plain": [
              "(12, 16)"
            ]
          },
          "metadata": {
            "tags": []
          },
          "execution_count": 35
        }
      ]
    },
    {
      "cell_type": "code",
      "metadata": {
        "id": "XEa62JIJ27Yv"
      },
      "source": [
        "#LAMBDA FUNCTION\n",
        "addition = lambda a,b : a+b"
      ],
      "execution_count": 37,
      "outputs": []
    },
    {
      "cell_type": "code",
      "metadata": {
        "id": "zGcFrfgZ37FI",
        "outputId": "5ceb9760-71c4-4e29-da04-3fae80fa0f40",
        "colab": {
          "base_uri": "https://localhost:8080/",
          "height": 34
        }
      },
      "source": [
        "addition(34,56)"
      ],
      "execution_count": 39,
      "outputs": [
        {
          "output_type": "execute_result",
          "data": {
            "text/plain": [
              "90"
            ]
          },
          "metadata": {
            "tags": []
          },
          "execution_count": 39
        }
      ]
    },
    {
      "cell_type": "code",
      "metadata": {
        "id": "sBU7Qffx4CkY"
      },
      "source": [
        "even = lambda x:x%2==0"
      ],
      "execution_count": 41,
      "outputs": []
    },
    {
      "cell_type": "code",
      "metadata": {
        "id": "yWo1G-CZ4tSg",
        "outputId": "91c4abb7-841b-4360-fd02-7ed7276d2d14",
        "colab": {
          "base_uri": "https://localhost:8080/",
          "height": 34
        }
      },
      "source": [
        "even(44)"
      ],
      "execution_count": 42,
      "outputs": [
        {
          "output_type": "execute_result",
          "data": {
            "text/plain": [
              "True"
            ]
          },
          "metadata": {
            "tags": []
          },
          "execution_count": 42
        }
      ]
    },
    {
      "cell_type": "code",
      "metadata": {
        "id": "hNtZirWk42Eq"
      },
      "source": [
        "#MAP FUNCTION\n",
        "def evenorodd(num):\n",
        "  if num%2==0:\n",
        "    return \"the no {} is even\".format(num)\n",
        "  else:\n",
        "    return \"the no {} is odd\".format(num)"
      ],
      "execution_count": 43,
      "outputs": []
    },
    {
      "cell_type": "code",
      "metadata": {
        "id": "tB2dUdzY6tg6"
      },
      "source": [
        "lst = [1,2,3,4,5,6,7,8,9,10]"
      ],
      "execution_count": 44,
      "outputs": []
    },
    {
      "cell_type": "code",
      "metadata": {
        "id": "aw8KWTT86yd-",
        "outputId": "9927449b-5107-4e9f-c54b-0cd30222aa40",
        "colab": {
          "base_uri": "https://localhost:8080/",
          "height": 185
        }
      },
      "source": [
        "list(map(evenorodd,lst))"
      ],
      "execution_count": 45,
      "outputs": [
        {
          "output_type": "execute_result",
          "data": {
            "text/plain": [
              "['the no 1 is odd',\n",
              " 'the no 2 is even',\n",
              " 'the no 3 is odd',\n",
              " 'the no 4 is even',\n",
              " 'the no 5 is odd',\n",
              " 'the no 6 is even',\n",
              " 'the no 7 is odd',\n",
              " 'the no 8 is even',\n",
              " 'the no 9 is odd',\n",
              " 'the no 10 is even']"
            ]
          },
          "metadata": {
            "tags": []
          },
          "execution_count": 45
        }
      ]
    },
    {
      "cell_type": "code",
      "metadata": {
        "id": "YszMUyT-65kj"
      },
      "source": [
        ""
      ],
      "execution_count": null,
      "outputs": []
    }
  ]
}