{
  "nbformat": 4,
  "nbformat_minor": 0,
  "metadata": {
    "colab": {
      "name": "Linear Regression Mathematical Part.ipynb",
      "provenance": [],
      "collapsed_sections": []
    },
    "kernelspec": {
      "name": "python3",
      "display_name": "Python 3"
    }
  },
  "cells": [
    {
      "cell_type": "markdown",
      "metadata": {
        "id": "BB9yR-BLA5ZL"
      },
      "source": [
        "#Linear_regression(mathematical_way)"
      ]
    },
    {
      "cell_type": "code",
      "metadata": {
        "id": "spK18dNPAHZn"
      },
      "source": [
        "import numpy as np \n",
        "import pandas as pd\n",
        "import matplotlib.pyplot as plt\n",
        "import sklearn\n"
      ],
      "execution_count": 1,
      "outputs": []
    },
    {
      "cell_type": "code",
      "metadata": {
        "id": "eHyZZMKIASMq"
      },
      "source": [
        "#importing dataset\n",
        "from sklearn.datasets import make_regression"
      ],
      "execution_count": 2,
      "outputs": []
    },
    {
      "cell_type": "code",
      "metadata": {
        "id": "3NgYeCH2ASt7"
      },
      "source": [
        "X,y = make_regression(n_samples = 500 ,n_features = 1,noise = 25,bias = 10)\n"
      ],
      "execution_count": 3,
      "outputs": []
    },
    {
      "cell_type": "code",
      "metadata": {
        "colab": {
          "base_uri": "https://localhost:8080/",
          "height": 282
        },
        "id": "RFwKt6IIAU2B",
        "outputId": "8ffc4d20-c62a-4510-efd6-eb0b973017bb"
      },
      "source": [
        "plt.scatter(X,y)\n",
        "plt.show"
      ],
      "execution_count": 4,
      "outputs": [
        {
          "output_type": "execute_result",
          "data": {
            "text/plain": [
              "<function matplotlib.pyplot.show>"
            ]
          },
          "metadata": {
            "tags": []
          },
          "execution_count": 4
        },
        {
          "output_type": "display_data",
          "data": {
            "image/png": "[encoded data removed]",
            "text/plain": [
              "<Figure size 432x288 with 1 Axes>"
            ]
          },
          "metadata": {
            "tags": [],
            "needs_background": "light"
          }
        }
      ]
    },
    {
      "cell_type": "code",
      "metadata": {
        "colab": {
          "base_uri": "https://localhost:8080/"
        },
        "id": "aOLHswpFAbWi",
        "outputId": "4af53196-1e5c-4244-c8d6-0e7447acbb75"
      },
      "source": [
        "\"\"\"Our data needs to be split in 2 parts\n",
        "    - Training Data\n",
        "    - Testing Data\"\"\"\n",
        "split = int(0.8*X.shape[0])\n",
        "print(split)\n",
        "\n",
        "X_train = X[:split]\n",
        "X_test = X[split:]\n",
        "\n",
        "Y_train = y[:split]\n",
        "Y_test = y[split:]\n",
        "\n",
        "print(X_train.shape)\n",
        "print(X_test.shape)\n",
        "\n",
        "print(Y_test.shape)"
      ],
      "execution_count": 5,
      "outputs": [
        {
          "output_type": "stream",
          "text": [
            "400\n",
            "(400, 1)\n",
            "(100, 1)\n",
            "(100,)\n"
          ],
          "name": "stdout"
        }
      ]
    },
    {
      "cell_type": "code",
      "metadata": {
        "id": "5V9rACS_AeSG"
      },
      "source": [
        "## Methods we need to write\n",
        "#mathematical way of linear regression model\n",
        "def hypothesis(x,theta):\n",
        "    return theta[0] + x*theta[1]"
      ],
      "execution_count": 6,
      "outputs": []
    },
    {
      "cell_type": "code",
      "metadata": {
        "id": "pGlMRmuwAh6E"
      },
      "source": [
        "def get_error(X, Y, theta):\n",
        "     err = 0.0\n",
        "     m = X.shape[0]\n",
        "    \n",
        "     for i in range(m):\n",
        "         h = hypothesis(X[i], theta)\n",
        "         err += (Y[i] - h)**2\n",
        "        \n",
        "     err = err/2*m\n",
        "     return err"
      ],
      "execution_count": 7,
      "outputs": []
    },
    {
      "cell_type": "code",
      "metadata": {
        "id": "d5pgrkMKAkuq"
      },
      "source": [
        "def get_grad(X,Y,theta):\n",
        "     grad_0 = 0.0\n",
        "     grad_1 = 0.0\n",
        "    \n",
        "     grad = np.zeros((2,))\n",
        "    \n",
        "     m = X.shape[0]\n",
        "    \n",
        "     for i in range(m):\n",
        "         h = hypothesis(X[i],theta)\n",
        "         grad[0] += (h - Y[i])\n",
        "         grad[1] += (h - Y[i])*(X[i])\n",
        "        \n",
        "     grad[0] = grad[0]/m\n",
        "     grad[1] = grad[1]/m\n",
        "    \n",
        "     return grad"
      ],
      "execution_count": 8,
      "outputs": []
    },
    {
      "cell_type": "code",
      "metadata": {
        "id": "zlJUO9cDAm7S"
      },
      "source": [
        "def gradient_descent(X,Y,learning_rate = 0.01):\n",
        "     error_list = []\n",
        "     theta = np.zeros((2,))\n",
        "    \n",
        "     i = 0\n",
        "     max_iter = 500\n",
        "     for i in range (max_iter):\n",
        "         g = get_grad(X,Y,theta)\n",
        "         e = get_error(X,Y,theta)\n",
        "         error_list.append(e)\n",
        "        \n",
        "         theta[0] -= learning_rate*g[0]\n",
        "         theta[1] -= learning_rate*g[1]\n",
        "        \n",
        "         i += 1\n",
        "        \n",
        "     return theta, error_list"
      ],
      "execution_count": 9,
      "outputs": []
    },
    {
      "cell_type": "code",
      "metadata": {
        "id": "8Wo2etbdArwA"
      },
      "source": [
        "theta_final, errors = gradient_descent(X_train,Y_train)\n"
      ],
      "execution_count": 10,
      "outputs": []
    },
    {
      "cell_type": "code",
      "metadata": {
        "colab": {
          "base_uri": "https://localhost:8080/",
          "height": 276
        },
        "id": "QwxwUwhlAtaW",
        "outputId": "8d589ed7-ffc6-44d1-cbec-0e650742f229"
      },
      "source": [
        "\n",
        "plt.plot(errors)\n",
        "plt.show()\n"
      ],
      "execution_count": 11,
      "outputs": [
        {
          "output_type": "display_data",
          "data": {
            "image/png": "[encoded data removed]",
            "text/plain": [
              "<Figure size 432x288 with 1 Axes>"
            ]
          },
          "metadata": {
            "tags": [],
            "needs_background": "light"
          }
        }
      ]
    },
    {
      "cell_type": "code",
      "metadata": {
        "colab": {
          "base_uri": "https://localhost:8080/",
          "height": 282
        },
        "id": "1Hn8klKKAv8K",
        "outputId": "181a4417-6764-49e3-b867-91d507ce8542"
      },
      "source": [
        "plt.scatter(X_train,Y_train)\n",
        "plt.plot(X_test,hypothesis(X_test,theta_final), color = \"orange\")"
      ],
      "execution_count": 12,
      "outputs": [
        {
          "output_type": "execute_result",
          "data": {
            "text/plain": [
              "[<matplotlib.lines.Line2D at 0x7fa1d6beb2b0>]"
            ]
          },
          "metadata": {
            "tags": []
          },
          "execution_count": 12
        },
        {
          "output_type": "display_data",
          "data": {
            "image/png": "[encoded data removed]",
            "text/plain": [
              "<Figure size 432x288 with 1 Axes>"
            ]
          },
          "metadata": {
            "tags": [],
            "needs_background": "light"
          }
        }
      ]
    },
    {
      "cell_type": "code",
      "metadata": {
        "id": "VV5iIORnAzWS"
      },
      "source": [
        ""
      ],
      "execution_count": null,
      "outputs": []
    }
  ]
}